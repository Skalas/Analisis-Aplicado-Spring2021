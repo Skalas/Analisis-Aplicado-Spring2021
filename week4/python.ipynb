{
 "cells": [
  {
   "cell_type": "markdown",
   "id": "unsigned-gossip",
   "metadata": {},
   "source": [
    "# Introducción a python. "
   ]
  },
  {
   "cell_type": "markdown",
   "id": "negative-assurance",
   "metadata": {},
   "source": [
    "## Ayuda"
   ]
  },
  {
   "cell_type": "code",
   "execution_count": 1,
   "id": "intensive-jackson",
   "metadata": {},
   "outputs": [],
   "source": [
    "str?"
   ]
  },
  {
   "cell_type": "markdown",
   "id": "signed-perth",
   "metadata": {},
   "source": [
    "## Variables"
   ]
  },
  {
   "cell_type": "markdown",
   "id": "eight-candle",
   "metadata": {},
   "source": [
    "**Asignación** le decimos a la computadora que la variable `x` tiene *asignado* el valor `1`."
   ]
  },
  {
   "cell_type": "code",
   "execution_count": 2,
   "id": "miniature-literature",
   "metadata": {},
   "outputs": [],
   "source": [
    "x = 1"
   ]
  },
  {
   "cell_type": "code",
   "execution_count": 3,
   "id": "appreciated-steal",
   "metadata": {},
   "outputs": [
    {
     "data": {
      "text/plain": [
       "1"
      ]
     },
     "execution_count": 3,
     "metadata": {},
     "output_type": "execute_result"
    }
   ],
   "source": [
    "x"
   ]
  },
  {
   "cell_type": "code",
   "execution_count": 4,
   "id": "correct-subscriber",
   "metadata": {},
   "outputs": [
    {
     "name": "stdout",
     "output_type": "stream",
     "text": [
      "1\n"
     ]
    }
   ],
   "source": [
    "print(x)"
   ]
  },
  {
   "cell_type": "code",
   "execution_count": 5,
   "id": "bright-documentary",
   "metadata": {},
   "outputs": [
    {
     "name": "stdout",
     "output_type": "stream",
     "text": [
      "El valor de a es  3\n",
      "El valor de b es  4\n"
     ]
    }
   ],
   "source": [
    "a, b = 3, 4\n",
    "print(\"El valor de a es \", a)\n",
    "print(\"El valor de b es \", b)"
   ]
  },
  {
   "cell_type": "markdown",
   "id": "specialized-conflict",
   "metadata": {},
   "source": [
    "Los **tipos** de variables \"básicos\" son los siguientes:"
   ]
  },
  {
   "cell_type": "markdown",
   "id": "mighty-julian",
   "metadata": {},
   "source": [
    "**Enteros**"
   ]
  },
  {
   "cell_type": "code",
   "execution_count": 6,
   "id": "juvenile-damages",
   "metadata": {},
   "outputs": [
    {
     "data": {
      "text/plain": [
       "3"
      ]
     },
     "execution_count": 6,
     "metadata": {},
     "output_type": "execute_result"
    }
   ],
   "source": [
    "x = 3\n",
    "x"
   ]
  },
  {
   "cell_type": "markdown",
   "id": "identical-insulin",
   "metadata": {},
   "source": [
    "**Flotantes**"
   ]
  },
  {
   "cell_type": "code",
   "execution_count": 7,
   "id": "honey-picnic",
   "metadata": {},
   "outputs": [
    {
     "data": {
      "text/plain": [
       "3.5"
      ]
     },
     "execution_count": 7,
     "metadata": {},
     "output_type": "execute_result"
    }
   ],
   "source": [
    "y = 3.5\n",
    "y"
   ]
  },
  {
   "cell_type": "markdown",
   "id": "generic-mystery",
   "metadata": {},
   "source": [
    "**Números Complejos**  de la forma $a + b\\iota$"
   ]
  },
  {
   "cell_type": "code",
   "execution_count": 8,
   "id": "another-transcript",
   "metadata": {},
   "outputs": [
    {
     "data": {
      "text/plain": [
       "(3+5j)"
      ]
     },
     "execution_count": 8,
     "metadata": {},
     "output_type": "execute_result"
    }
   ],
   "source": [
    "z = 3 + 5j\n",
    "z"
   ]
  },
  {
   "cell_type": "markdown",
   "id": "experimental-convenience",
   "metadata": {},
   "source": [
    "**Booleanos**"
   ]
  },
  {
   "cell_type": "code",
   "execution_count": 9,
   "id": "given-cooperation",
   "metadata": {},
   "outputs": [
    {
     "data": {
      "text/plain": [
       "True"
      ]
     },
     "execution_count": 9,
     "metadata": {},
     "output_type": "execute_result"
    }
   ],
   "source": [
    "a = True\n",
    "a"
   ]
  },
  {
   "cell_type": "markdown",
   "id": "likely-plain",
   "metadata": {},
   "source": [
    "Python también soporta **notación científica**"
   ]
  },
  {
   "cell_type": "code",
   "execution_count": 10,
   "id": "commercial-affect",
   "metadata": {},
   "outputs": [
    {
     "data": {
      "text/plain": [
       "1.2e+34"
      ]
     },
     "execution_count": 10,
     "metadata": {},
     "output_type": "execute_result"
    }
   ],
   "source": [
    "x = 1.2e34\n",
    "x"
   ]
  },
  {
   "cell_type": "code",
   "execution_count": 11,
   "id": "solved-oregon",
   "metadata": {},
   "outputs": [
    {
     "data": {
      "text/plain": [
       "(1e-12+35600j)"
      ]
     },
     "execution_count": 11,
     "metadata": {},
     "output_type": "execute_result"
    }
   ],
   "source": [
    "x = 1e-12 + 3.56e4j\n",
    "x"
   ]
  },
  {
   "cell_type": "markdown",
   "id": "tough-montreal",
   "metadata": {},
   "source": [
    "\n",
    "Nota como cambiamos tres veces el tipo y el valor de la variable `x`, el hecho de *que se pueda* hacer no implica **que debas de hacerlo**, se considera como una pésima práctica de programación..."
   ]
  },
  {
   "cell_type": "markdown",
   "id": "strategic-category",
   "metadata": {},
   "source": [
    "**Cadenas de texto**"
   ]
  },
  {
   "cell_type": "code",
   "execution_count": 14,
   "id": "initial-player",
   "metadata": {},
   "outputs": [
    {
     "data": {
      "text/plain": [
       "'Esto es una cadena de texto con acentos y otros símbolos UTF-8 ¿?¡!'"
      ]
     },
     "execution_count": 14,
     "metadata": {},
     "output_type": "execute_result"
    }
   ],
   "source": [
    "cadena = \"Esto es una cadena de texto con acentos y otros símbolos UTF-8 ¿?¡!\"\n",
    "cadena"
   ]
  },
  {
   "cell_type": "code",
   "execution_count": 22,
   "id": "missing-effectiveness",
   "metadata": {},
   "outputs": [
    {
     "data": {
      "text/plain": [
       "'ESTO ES UNA CADENA DE TEXTO CON ACENTOS Y OTROS SÍMBOLOS UTF-8 ¿?¡!'"
      ]
     },
     "execution_count": 22,
     "metadata": {},
     "output_type": "execute_result"
    }
   ],
   "source": [
    "cadena.upper()\n"
   ]
  },
  {
   "cell_type": "markdown",
   "id": "finite-crash",
   "metadata": {},
   "source": [
    "**Ejercicio**\n",
    "Usa la ayuda en línea de ipython e investiga como:\n",
    "- Capitalizarla.\n",
    "- Convertirla a minúsculas.\n",
    "- Convertir a mayúsculas.\n",
    "- Eliminar los espacios.\n",
    "de la cadena \"Anita lava la tina\". Aplica las cuatro operaciones una tras otra."
   ]
  },
  {
   "cell_type": "markdown",
   "id": "monetary-transparency",
   "metadata": {},
   "source": [
    "Es posible ser explícito en la asignación del tipo de la variable"
   ]
  },
  {
   "cell_type": "code",
   "execution_count": 24,
   "id": "young-commitment",
   "metadata": {},
   "outputs": [],
   "source": [
    "x = int(2)\n",
    "y = float(3)\n",
    "z = complex(1+2j)\n",
    "a = str(\"Hola\")"
   ]
  },
  {
   "cell_type": "code",
   "execution_count": 29,
   "id": "fantastic-funeral",
   "metadata": {},
   "outputs": [
    {
     "name": "stdout",
     "output_type": "stream",
     "text": [
      "2.1 3.0 (1+2j) Hola\n"
     ]
    }
   ],
   "source": [
    "print(x, y, z, a)"
   ]
  },
  {
   "cell_type": "code",
   "execution_count": 31,
   "id": "otherwise-laundry",
   "metadata": {},
   "outputs": [],
   "source": []
  },
  {
   "cell_type": "markdown",
   "id": "indian-period",
   "metadata": {},
   "source": [
    "## Operaciones"
   ]
  },
  {
   "cell_type": "code",
   "execution_count": 32,
   "id": "loose-prize",
   "metadata": {},
   "outputs": [],
   "source": [
    "x = 3\n",
    "y = 2"
   ]
  },
  {
   "cell_type": "code",
   "execution_count": 47,
   "id": "vocational-handbook",
   "metadata": {},
   "outputs": [
    {
     "data": {
      "text/plain": [
       "(7+3j)"
      ]
     },
     "execution_count": 47,
     "metadata": {},
     "output_type": "execute_result"
    }
   ],
   "source": [
    "x+y"
   ]
  },
  {
   "cell_type": "code",
   "execution_count": 48,
   "id": "worth-tract",
   "metadata": {},
   "outputs": [
    {
     "data": {
      "text/plain": [
       "(-1-3j)"
      ]
     },
     "execution_count": 48,
     "metadata": {},
     "output_type": "execute_result"
    }
   ],
   "source": [
    "x-y"
   ]
  },
  {
   "cell_type": "code",
   "execution_count": 49,
   "id": "micro-moment",
   "metadata": {},
   "outputs": [
    {
     "data": {
      "text/plain": [
       "(12+9j)"
      ]
     },
     "execution_count": 49,
     "metadata": {},
     "output_type": "execute_result"
    }
   ],
   "source": [
    "x*y"
   ]
  },
  {
   "cell_type": "code",
   "execution_count": 50,
   "id": "undefined-guarantee",
   "metadata": {},
   "outputs": [
    {
     "data": {
      "text/plain": [
       "(-80.03836209851747-12.44429960209101j)"
      ]
     },
     "execution_count": 50,
     "metadata": {},
     "output_type": "execute_result"
    }
   ],
   "source": [
    "x**y"
   ]
  },
  {
   "cell_type": "code",
   "execution_count": 51,
   "id": "packed-corner",
   "metadata": {},
   "outputs": [
    {
     "data": {
      "text/plain": [
       "(0.48-0.36j)"
      ]
     },
     "execution_count": 51,
     "metadata": {},
     "output_type": "execute_result"
    }
   ],
   "source": [
    "x/y"
   ]
  },
  {
   "cell_type": "code",
   "execution_count": 52,
   "id": "super-edmonton",
   "metadata": {},
   "outputs": [
    {
     "ename": "TypeError",
     "evalue": "can't mod complex numbers.",
     "output_type": "error",
     "traceback": [
      "\u001b[0;31m---------------------------------------------------------------------------\u001b[0m",
      "\u001b[0;31mTypeError\u001b[0m                                 Traceback (most recent call last)",
      "\u001b[0;32m<ipython-input-52-fe2e72c5b586>\u001b[0m in \u001b[0;36m<module>\u001b[0;34m\u001b[0m\n\u001b[0;32m----> 1\u001b[0;31m \u001b[0my\u001b[0m\u001b[0;34m%\u001b[0m\u001b[0mx\u001b[0m\u001b[0;34m\u001b[0m\u001b[0;34m\u001b[0m\u001b[0m\n\u001b[0m",
      "\u001b[0;31mTypeError\u001b[0m: can't mod complex numbers."
     ]
    }
   ],
   "source": [
    "y%x"
   ]
  },
  {
   "cell_type": "markdown",
   "id": "responsible-overhead",
   "metadata": {},
   "source": [
    "**Ejercicio:**\n",
    "\n",
    "Repite las operaciones pero ahora usa el siguiente valor (y tipo) de `y`.\n",
    "\n",
    "¿Qué sucede? ¿Cuál es el tipo del valor de salida?"
   ]
  },
  {
   "cell_type": "code",
   "execution_count": 39,
   "id": "recreational-gather",
   "metadata": {},
   "outputs": [],
   "source": [
    "y=4.1"
   ]
  },
  {
   "cell_type": "markdown",
   "id": "prostate-frost",
   "metadata": {},
   "source": [
    "**Ejercicio:**\n",
    "\n",
    "Repite las operaciones pero ahora usa el valor (y tipo) de `y`.\n",
    "\n",
    "¿Qué sucede? ¿Cuál es el tipo de valor de salida?"
   ]
  },
  {
   "cell_type": "code",
   "execution_count": 46,
   "id": "advised-intranet",
   "metadata": {},
   "outputs": [],
   "source": [
    "y = 4 + 3j"
   ]
  },
  {
   "cell_type": "markdown",
   "id": "intellectual-marriage",
   "metadata": {},
   "source": [
    "**Ejercicio:**\n",
    "\n",
    "¿Qué pasa en lo siguiente?"
   ]
  },
  {
   "cell_type": "code",
   "execution_count": 53,
   "id": "informed-timeline",
   "metadata": {},
   "outputs": [],
   "source": [
    "a = 3\n",
    "b = \"hola\""
   ]
  },
  {
   "cell_type": "code",
   "execution_count": 54,
   "id": "empty-yesterday",
   "metadata": {},
   "outputs": [
    {
     "ename": "TypeError",
     "evalue": "unsupported operand type(s) for +: 'int' and 'str'",
     "output_type": "error",
     "traceback": [
      "\u001b[0;31m---------------------------------------------------------------------------\u001b[0m",
      "\u001b[0;31mTypeError\u001b[0m                                 Traceback (most recent call last)",
      "\u001b[0;32m<ipython-input-54-ca730b97bf8a>\u001b[0m in \u001b[0;36m<module>\u001b[0;34m\u001b[0m\n\u001b[0;32m----> 1\u001b[0;31m \u001b[0ma\u001b[0m\u001b[0;34m+\u001b[0m\u001b[0mb\u001b[0m\u001b[0;34m\u001b[0m\u001b[0;34m\u001b[0m\u001b[0m\n\u001b[0m",
      "\u001b[0;31mTypeError\u001b[0m: unsupported operand type(s) for +: 'int' and 'str'"
     ]
    }
   ],
   "source": [
    "a+b"
   ]
  },
  {
   "cell_type": "code",
   "execution_count": 55,
   "id": "reflected-entrepreneur",
   "metadata": {},
   "outputs": [
    {
     "data": {
      "text/plain": [
       "'3hola'"
      ]
     },
     "execution_count": 55,
     "metadata": {},
     "output_type": "execute_result"
    }
   ],
   "source": [
    "str(a) + b"
   ]
  },
  {
   "cell_type": "code",
   "execution_count": 56,
   "id": "catholic-motor",
   "metadata": {},
   "outputs": [
    {
     "data": {
      "text/plain": [
       "'holahola'"
      ]
     },
     "execution_count": 56,
     "metadata": {},
     "output_type": "execute_result"
    }
   ],
   "source": [
    "b+b"
   ]
  },
  {
   "cell_type": "code",
   "execution_count": 57,
   "id": "excited-object",
   "metadata": {},
   "outputs": [
    {
     "data": {
      "text/plain": [
       "'holaholahola'"
      ]
     },
     "execution_count": 57,
     "metadata": {},
     "output_type": "execute_result"
    }
   ],
   "source": [
    "a*b"
   ]
  },
  {
   "cell_type": "code",
   "execution_count": 58,
   "id": "micro-intelligence",
   "metadata": {},
   "outputs": [
    {
     "name": "stdout",
     "output_type": "stream",
     "text": [
      "1.0 2.0 3.0\n"
     ]
    }
   ],
   "source": [
    "a, b, c = 1.0, 2.0, 3.0\n",
    "print(a,b,c)"
   ]
  },
  {
   "cell_type": "code",
   "execution_count": 59,
   "id": "casual-sleeping",
   "metadata": {},
   "outputs": [
    {
     "data": {
      "text/plain": [
       "1.6666666666666665"
      ]
     },
     "execution_count": 59,
     "metadata": {},
     "output_type": "execute_result"
    }
   ],
   "source": [
    "a + b/c"
   ]
  },
  {
   "cell_type": "code",
   "execution_count": 60,
   "id": "modern-photograph",
   "metadata": {},
   "outputs": [
    {
     "data": {
      "text/plain": [
       "1.0"
      ]
     },
     "execution_count": 60,
     "metadata": {},
     "output_type": "execute_result"
    }
   ],
   "source": [
    "(a+b)/c"
   ]
  },
  {
   "cell_type": "code",
   "execution_count": 61,
   "id": "concerned-liver",
   "metadata": {},
   "outputs": [
    {
     "name": "stdout",
     "output_type": "stream",
     "text": [
      "1\n"
     ]
    }
   ],
   "source": [
    "x= 0\n",
    "x += 1\n",
    "print(x)"
   ]
  },
  {
   "cell_type": "code",
   "execution_count": 62,
   "id": "nuclear-figure",
   "metadata": {},
   "outputs": [
    {
     "name": "stdout",
     "output_type": "stream",
     "text": [
      "-1\n"
     ]
    }
   ],
   "source": [
    "x -= 2\n",
    "print(x)"
   ]
  },
  {
   "cell_type": "code",
   "execution_count": 63,
   "id": "unsigned-faculty",
   "metadata": {},
   "outputs": [
    {
     "name": "stdout",
     "output_type": "stream",
     "text": [
      "-3.14\n"
     ]
    }
   ],
   "source": [
    "x *= 3.14\n",
    "print(x)"
   ]
  },
  {
   "cell_type": "code",
   "execution_count": 64,
   "id": "stopped-cherry",
   "metadata": {},
   "outputs": [
    {
     "name": "stdout",
     "output_type": "stream",
     "text": [
      "-0.628\n"
     ]
    }
   ],
   "source": [
    "x /= 5*a\n",
    "print(x)"
   ]
  },
  {
   "cell_type": "code",
   "execution_count": 66,
   "id": "alleged-sucking",
   "metadata": {},
   "outputs": [],
   "source": [
    "if x > 3.1:\n",
    "    print(\"Esto no se debería de imprimir\")\n",
    "    print(\"Nota que es muy peligroso hacer esto con flotantes...\")"
   ]
  },
  {
   "cell_type": "code",
   "execution_count": 67,
   "id": "vietnamese-cuisine",
   "metadata": {},
   "outputs": [],
   "source": [
    "x = 5"
   ]
  },
  {
   "cell_type": "code",
   "execution_count": 68,
   "id": "neither-writer",
   "metadata": {},
   "outputs": [
    {
     "name": "stdout",
     "output_type": "stream",
     "text": [
      "Esto SI se debería de imprimir\n"
     ]
    }
   ],
   "source": [
    "if x > 3:\n",
    "    print(\"Esto SI se debería de imprimir\")"
   ]
  },
  {
   "cell_type": "markdown",
   "id": "eligible-instruction",
   "metadata": {},
   "source": [
    "Los siguientes operadores lógicos se pueden utilizar "
   ]
  },
  {
   "cell_type": "code",
   "execution_count": 69,
   "id": "material-litigation",
   "metadata": {},
   "outputs": [
    {
     "data": {
      "text/plain": [
       "False"
      ]
     },
     "execution_count": 69,
     "metadata": {},
     "output_type": "execute_result"
    }
   ],
   "source": [
    "x == 1"
   ]
  },
  {
   "cell_type": "code",
   "execution_count": 70,
   "id": "alternate-catch",
   "metadata": {},
   "outputs": [
    {
     "data": {
      "text/plain": [
       "True"
      ]
     },
     "execution_count": 70,
     "metadata": {},
     "output_type": "execute_result"
    }
   ],
   "source": [
    "x > 1"
   ]
  },
  {
   "cell_type": "code",
   "execution_count": 71,
   "id": "becoming-somewhere",
   "metadata": {},
   "outputs": [
    {
     "data": {
      "text/plain": [
       "False"
      ]
     },
     "execution_count": 71,
     "metadata": {},
     "output_type": "execute_result"
    }
   ],
   "source": [
    "x < 1"
   ]
  },
  {
   "cell_type": "code",
   "execution_count": 72,
   "id": "informed-version",
   "metadata": {},
   "outputs": [
    {
     "data": {
      "text/plain": [
       "True"
      ]
     },
     "execution_count": 72,
     "metadata": {},
     "output_type": "execute_result"
    }
   ],
   "source": [
    "x >= 1"
   ]
  },
  {
   "cell_type": "code",
   "execution_count": 73,
   "id": "intermediate-certificate",
   "metadata": {},
   "outputs": [
    {
     "data": {
      "text/plain": [
       "True"
      ]
     },
     "execution_count": 73,
     "metadata": {},
     "output_type": "execute_result"
    }
   ],
   "source": [
    "x != 1"
   ]
  },
  {
   "cell_type": "code",
   "execution_count": 80,
   "id": "prerequisite-broadcast",
   "metadata": {},
   "outputs": [
    {
     "data": {
      "text/plain": [
       "True"
      ]
     },
     "execution_count": 80,
     "metadata": {},
     "output_type": "execute_result"
    }
   ],
   "source": [
    "x > 10 or x <= 5"
   ]
  },
  {
   "cell_type": "code",
   "execution_count": 83,
   "id": "domestic-drive",
   "metadata": {},
   "outputs": [
    {
     "data": {
      "text/plain": [
       "False"
      ]
     },
     "execution_count": 83,
     "metadata": {},
     "output_type": "execute_result"
    }
   ],
   "source": [
    "x > 10 and x <= 5"
   ]
  },
  {
   "cell_type": "code",
   "execution_count": 76,
   "id": "rural-bargain",
   "metadata": {},
   "outputs": [
    {
     "name": "stdout",
     "output_type": "stream",
     "text": [
      "5\n"
     ]
    }
   ],
   "source": [
    "print(x)"
   ]
  },
  {
   "cell_type": "code",
   "execution_count": 84,
   "id": "transparent-softball",
   "metadata": {},
   "outputs": [
    {
     "name": "stdout",
     "output_type": "stream",
     "text": [
      "¡Hola!\n"
     ]
    }
   ],
   "source": [
    "if x >= 5 and x < 10:\n",
    "    print(\"¡Hola!\")\n",
    "else:\n",
    "    print(\"Nunca me verás\")"
   ]
  },
  {
   "cell_type": "markdown",
   "id": "governing-aquatic",
   "metadata": {},
   "source": [
    "## Bucles"
   ]
  },
  {
   "cell_type": "code",
   "execution_count": 85,
   "id": "dying-percentage",
   "metadata": {},
   "outputs": [
    {
     "name": "stdout",
     "output_type": "stream",
     "text": [
      "1\n",
      "2\n",
      "3\n",
      "4\n",
      "5\n"
     ]
    }
   ],
   "source": [
    "for i in (1,2,3,4,5):\n",
    "    print(i)"
   ]
  },
  {
   "cell_type": "code",
   "execution_count": 89,
   "id": "statistical-contemporary",
   "metadata": {},
   "outputs": [
    {
     "name": "stdout",
     "output_type": "stream",
     "text": [
      "H\n",
      "o\n",
      "l\n",
      "a\n",
      " \n",
      "C\n",
      "o\n",
      "m\n",
      "o\n",
      " \n",
      "e\n",
      "s\n",
      "t\n",
      "á\n",
      "s\n",
      "?\n"
     ]
    }
   ],
   "source": [
    "for x in \"Hola Como estás?\":\n",
    "    print(x)"
   ]
  },
  {
   "cell_type": "markdown",
   "id": "ceramic-requirement",
   "metadata": {},
   "source": [
    "El que sigue no es el mejor ejemplo de un uso de `while`, pero es con fines ilustrativos"
   ]
  },
  {
   "cell_type": "code",
   "execution_count": 92,
   "id": "polyphonic-casting",
   "metadata": {},
   "outputs": [
    {
     "name": "stdout",
     "output_type": "stream",
     "text": [
      "1\n",
      "2\n",
      "3\n",
      "4\n",
      "5\n"
     ]
    }
   ],
   "source": [
    "i = 1\n",
    "while i > 0 and i <= 5:\n",
    "    print(i)\n",
    "    i += 1"
   ]
  },
  {
   "cell_type": "code",
   "execution_count": 99,
   "id": "exceptional-shelf",
   "metadata": {},
   "outputs": [
    {
     "name": "stdout",
     "output_type": "stream",
     "text": [
      "3\n",
      "4\n",
      "5\n",
      "6\n",
      "7\n",
      "8\n",
      "9\n"
     ]
    }
   ],
   "source": [
    "for i in range(3,10):\n",
    "    print(i)"
   ]
  },
  {
   "cell_type": "markdown",
   "id": "biblical-study",
   "metadata": {},
   "source": [
    "**Ejercicio:**\n",
    "\n",
    "Calcula el valor de la suma $\\sum^{1000}_{k=1} \\left(\\frac{1}{k}\\right)^2$."
   ]
  },
  {
   "cell_type": "code",
   "execution_count": 102,
   "id": "divine-superior",
   "metadata": {},
   "outputs": [
    {
     "name": "stdout",
     "output_type": "stream",
     "text": [
      "1.6448340718480652\n"
     ]
    }
   ],
   "source": [
    "x = 0\n",
    "for i in range(1,10001):\n",
    "    x+=1/i**2\n",
    "print(x)"
   ]
  },
  {
   "cell_type": "code",
   "execution_count": 103,
   "id": "armed-liability",
   "metadata": {},
   "outputs": [
    {
     "data": {
      "text/plain": [
       "[1, 2, 3, 4, 5]"
      ]
     },
     "execution_count": 103,
     "metadata": {},
     "output_type": "execute_result"
    }
   ],
   "source": [
    "a_list = [1, 2, 3, 4, 5]\n",
    "a_list"
   ]
  },
  {
   "cell_type": "code",
   "execution_count": 104,
   "id": "complicated-dylan",
   "metadata": {},
   "outputs": [
    {
     "data": {
      "text/plain": [
       "[1, 1.3, 4.5, (2+1j), [1, 2]]"
      ]
     },
     "execution_count": 104,
     "metadata": {},
     "output_type": "execute_result"
    }
   ],
   "source": [
    "another_list = [1, 1.3, 4.5, 2+1j, [1,2]]\n",
    "another_list"
   ]
  },
  {
   "cell_type": "code",
   "execution_count": 105,
   "id": "independent-assignment",
   "metadata": {},
   "outputs": [
    {
     "data": {
      "text/plain": [
       "4"
      ]
     },
     "execution_count": 105,
     "metadata": {},
     "output_type": "execute_result"
    }
   ],
   "source": [
    "a_list[3]"
   ]
  },
  {
   "cell_type": "code",
   "execution_count": 106,
   "id": "supreme-twenty",
   "metadata": {},
   "outputs": [
    {
     "data": {
      "text/plain": [
       "(2+1j)"
      ]
     },
     "execution_count": 106,
     "metadata": {},
     "output_type": "execute_result"
    }
   ],
   "source": [
    "another_list[3]"
   ]
  },
  {
   "cell_type": "code",
   "execution_count": 107,
   "id": "compressed-connectivity",
   "metadata": {},
   "outputs": [
    {
     "data": {
      "text/plain": [
       "[1, 2]"
      ]
     },
     "execution_count": 107,
     "metadata": {},
     "output_type": "execute_result"
    }
   ],
   "source": [
    "another_list[4]"
   ]
  },
  {
   "cell_type": "code",
   "execution_count": 111,
   "id": "optimum-draft",
   "metadata": {},
   "outputs": [
    {
     "data": {
      "text/plain": [
       "5"
      ]
     },
     "execution_count": 111,
     "metadata": {},
     "output_type": "execute_result"
    }
   ],
   "source": [
    "a_list[-1]"
   ]
  },
  {
   "cell_type": "code",
   "execution_count": 112,
   "id": "korean-nevada",
   "metadata": {},
   "outputs": [
    {
     "data": {
      "text/plain": [
       "[2, 3, 4, 5]"
      ]
     },
     "execution_count": 112,
     "metadata": {},
     "output_type": "execute_result"
    }
   ],
   "source": [
    "a_list[1:]"
   ]
  },
  {
   "cell_type": "code",
   "execution_count": 113,
   "id": "promising-conservation",
   "metadata": {},
   "outputs": [
    {
     "data": {
      "text/plain": [
       "[3, 4]"
      ]
     },
     "execution_count": 113,
     "metadata": {},
     "output_type": "execute_result"
    }
   ],
   "source": [
    "a_list[2:4]"
   ]
  },
  {
   "cell_type": "code",
   "execution_count": 114,
   "id": "weekly-richards",
   "metadata": {},
   "outputs": [
    {
     "data": {
      "text/plain": [
       "[1, 2, 3, 4]"
      ]
     },
     "execution_count": 114,
     "metadata": {},
     "output_type": "execute_result"
    }
   ],
   "source": [
    "a_list[:4]"
   ]
  },
  {
   "cell_type": "code",
   "execution_count": 115,
   "id": "stuffed-turning",
   "metadata": {},
   "outputs": [],
   "source": [
    "n=5\n",
    "a_list.append(n)"
   ]
  },
  {
   "cell_type": "code",
   "execution_count": 116,
   "id": "exempt-completion",
   "metadata": {},
   "outputs": [
    {
     "data": {
      "text/plain": [
       "[1, 2, 3, 4, 5, 5]"
      ]
     },
     "execution_count": 116,
     "metadata": {},
     "output_type": "execute_result"
    }
   ],
   "source": [
    "a_list"
   ]
  },
  {
   "cell_type": "code",
   "execution_count": 117,
   "id": "protecting-dutch",
   "metadata": {},
   "outputs": [
    {
     "data": {
      "text/plain": [
       "5"
      ]
     },
     "execution_count": 117,
     "metadata": {},
     "output_type": "execute_result"
    }
   ],
   "source": [
    "a_list.pop()"
   ]
  },
  {
   "cell_type": "code",
   "execution_count": 118,
   "id": "tight-excuse",
   "metadata": {},
   "outputs": [
    {
     "data": {
      "text/plain": [
       "[1, 2, 3, 4, 5]"
      ]
     },
     "execution_count": 118,
     "metadata": {},
     "output_type": "execute_result"
    }
   ],
   "source": [
    "a_list"
   ]
  },
  {
   "cell_type": "code",
   "execution_count": 119,
   "id": "british-fields",
   "metadata": {},
   "outputs": [],
   "source": [
    "a_list.append(3)\n",
    "a_list[1] = 3\n",
    "a_list.append(5)"
   ]
  },
  {
   "cell_type": "code",
   "execution_count": 121,
   "id": "conventional-dance",
   "metadata": {},
   "outputs": [],
   "source": [
    "a_list.remove?"
   ]
  },
  {
   "cell_type": "code",
   "execution_count": 122,
   "id": "banner-grenada",
   "metadata": {},
   "outputs": [],
   "source": [
    "a_list.remove(3)"
   ]
  },
  {
   "cell_type": "code",
   "execution_count": 123,
   "id": "exempt-monroe",
   "metadata": {},
   "outputs": [
    {
     "data": {
      "text/plain": [
       "[1, 3, 4, 5, 3, 5]"
      ]
     },
     "execution_count": 123,
     "metadata": {},
     "output_type": "execute_result"
    }
   ],
   "source": [
    "a_list"
   ]
  },
  {
   "cell_type": "code",
   "execution_count": 124,
   "id": "applicable-tourist",
   "metadata": {
    "scrolled": true
   },
   "outputs": [
    {
     "name": "stdout",
     "output_type": "stream",
     "text": [
      "1\n",
      "3\n",
      "4\n",
      "5\n",
      "3\n",
      "5\n"
     ]
    }
   ],
   "source": [
    "for element in a_list:\n",
    "    print(element)"
   ]
  },
  {
   "cell_type": "code",
   "execution_count": 125,
   "id": "exotic-equity",
   "metadata": {},
   "outputs": [
    {
     "name": "stdout",
     "output_type": "stream",
     "text": [
      "0\n",
      "1\n",
      "2\n",
      "3\n",
      "4\n"
     ]
    }
   ],
   "source": [
    "for r in range(5):\n",
    "    print(r)"
   ]
  },
  {
   "cell_type": "markdown",
   "id": "missing-charm",
   "metadata": {},
   "source": [
    "### *List comprehensions*"
   ]
  },
  {
   "cell_type": "markdown",
   "id": "impaired-coverage",
   "metadata": {},
   "source": [
    "En matemáticas, es normal describir las listas (siendo estrictos conjuntos) de la siguente  manera:\n",
    "\n",
    "- $S = \\{x^²\\ |\\  x\\  en\\  \\{0 \\ldots 9\\}\\}$\n",
    "- $V = (1, 2, 4, 8, \\ldots, 2^{12})$\n",
    "- $M = \\{x\\  |\\ x\\  en\\  S\\  y\\  x\\  es\\  impar\\}$\n",
    "    "
   ]
  },
  {
   "cell_type": "code",
   "execution_count": 127,
   "id": "square-boring",
   "metadata": {},
   "outputs": [
    {
     "name": "stdout",
     "output_type": "stream",
     "text": [
      "[0, 1, 4, 9, 16, 25, 36, 49, 64, 81]\n",
      "[1, 2, 4, 8, 16, 32, 64, 128, 256, 512, 1024, 2048, 4096]\n",
      "[0, 4, 16, 36, 64]\n"
     ]
    }
   ],
   "source": [
    "S = [x**2 for x in range(10)]\n",
    "V = [2**x for x in range(13)]\n",
    "M = [x for x in S if x%2 == 0]\n",
    "print(S)\n",
    "print(V)\n",
    "print(M)"
   ]
  },
  {
   "cell_type": "code",
   "execution_count": 130,
   "id": "patent-syndrome",
   "metadata": {},
   "outputs": [
    {
     "data": {
      "text/plain": [
       "1.6439345666815615"
      ]
     },
     "execution_count": 130,
     "metadata": {},
     "output_type": "execute_result"
    }
   ],
   "source": [
    "sum([1/i**2 for i in range(1,1001)])"
   ]
  },
  {
   "cell_type": "markdown",
   "id": "automotive-marsh",
   "metadata": {},
   "source": [
    "Las *list comprehensions* pueden ser utilizadas también con cadenas:"
   ]
  },
  {
   "cell_type": "code",
   "execution_count": 131,
   "id": "cubic-community",
   "metadata": {},
   "outputs": [
    {
     "name": "stdout",
     "output_type": "stream",
     "text": [
      "['Anita', 'lava', 'la', 'tina']\n",
      "['ANITA', 'anita', 5]\n",
      "['LAVA', 'lava', 4]\n",
      "['LA', 'la', 2]\n",
      "['TINA', 'tina', 4]\n"
     ]
    }
   ],
   "source": [
    "palabras = 'Anita lava la tina'.split()\n",
    "print(palabras)\n",
    "transformacion = [[w.upper(), w.lower(), len(w)] for w in palabras]\n",
    "for t in transformacion:\n",
    "    print(t)"
   ]
  },
  {
   "cell_type": "code",
   "execution_count": 132,
   "id": "responsible-appreciation",
   "metadata": {},
   "outputs": [
    {
     "data": {
      "text/plain": [
       "[['ANITA', 'anita', 5],\n",
       " ['LAVA', 'lava', 4],\n",
       " ['LA', 'la', 2],\n",
       " ['TINA', 'tina', 4]]"
      ]
     },
     "execution_count": 132,
     "metadata": {},
     "output_type": "execute_result"
    }
   ],
   "source": [
    "transformacion"
   ]
  },
  {
   "cell_type": "markdown",
   "id": "fatal-criterion",
   "metadata": {},
   "source": [
    "Es posible usar varios `for` en una expresión, el siguiente bloque muestra los tripletes *pitagóricos* (aquellos $a,b$ y $c$ que cumplen con $a^2 + b^2 = c^2$)"
   ]
  },
  {
   "cell_type": "code",
   "execution_count": 133,
   "id": "optional-comment",
   "metadata": {},
   "outputs": [
    {
     "data": {
      "text/plain": [
       "[(3, 4, 5), (5, 12, 13), (6, 8, 10), (8, 15, 17), (9, 12, 15), (12, 16, 20)]"
      ]
     },
     "execution_count": 133,
     "metadata": {},
     "output_type": "execute_result"
    }
   ],
   "source": [
    "n = 25\n",
    "[(x, y, z) for x in range(1, n) for y in range(x, n) for z in range(y, n) if x*x + y*y == z*z]"
   ]
  },
  {
   "cell_type": "markdown",
   "id": "early-mining",
   "metadata": {},
   "source": [
    "## Diccionarios"
   ]
  },
  {
   "cell_type": "markdown",
   "id": "transparent-sullivan",
   "metadata": {},
   "source": [
    "Los diccionarios o *mapas* son otra estructura de datos importante en python"
   ]
  },
  {
   "cell_type": "code",
   "execution_count": 143,
   "id": "persistent-sessions",
   "metadata": {},
   "outputs": [
    {
     "data": {
      "text/plain": [
       "{'a': 1, 'b': 2, 'coral': 'amarillo'}"
      ]
     },
     "execution_count": 143,
     "metadata": {},
     "output_type": "execute_result"
    }
   ],
   "source": [
    "diccionario = {'a':1, 'b':2, 'coral': 'amarillo'}\n",
    "diccionario"
   ]
  },
  {
   "cell_type": "code",
   "execution_count": 136,
   "id": "printable-basin",
   "metadata": {},
   "outputs": [
    {
     "data": {
      "text/plain": [
       "1"
      ]
     },
     "execution_count": 136,
     "metadata": {},
     "output_type": "execute_result"
    }
   ],
   "source": [
    "diccionario['a']"
   ]
  },
  {
   "cell_type": "code",
   "execution_count": 137,
   "id": "parental-anaheim",
   "metadata": {},
   "outputs": [
    {
     "data": {
      "text/plain": [
       "'amarillo'"
      ]
     },
     "execution_count": 137,
     "metadata": {},
     "output_type": "execute_result"
    }
   ],
   "source": [
    "diccionario['coral']"
   ]
  },
  {
   "cell_type": "markdown",
   "id": "technical-belize",
   "metadata": {},
   "source": [
    "**Ejercicio**\n",
    "Usando la ayuda de python responde:\n",
    "- ¿Cómo puedo agregar elementos a un diccionario?\n",
    "- ¿Cómo puedo eliminar elementos a un diccionario?\n",
    "- ¿Cómo cambia el método `pop` respecto a la listas?\n",
    "- ¿Cómo puedo iterar en un diccionario?"
   ]
  },
  {
   "cell_type": "markdown",
   "id": "linear-salem",
   "metadata": {},
   "source": [
    "## Funciones"
   ]
  },
  {
   "cell_type": "markdown",
   "id": "treated-placement",
   "metadata": {},
   "source": [
    "**Principio DRY**: * Don't repeat yourself*"
   ]
  },
  {
   "cell_type": "code",
   "execution_count": 159,
   "id": "labeled-concentration",
   "metadata": {},
   "outputs": [],
   "source": [
    "from math import sqrt, atan\n",
    "def polar(x,y):\n",
    "    \"\"\"\n",
    "    x, y son un par ordenado\n",
    "    \"\"\"\n",
    "    r = sqrt(x**2 + y**2)\n",
    "    theta = atan(y/x)\n",
    "    return r, theta"
   ]
  },
  {
   "cell_type": "code",
   "execution_count": 160,
   "id": "adolescent-elevation",
   "metadata": {},
   "outputs": [],
   "source": [
    "polar?"
   ]
  },
  {
   "cell_type": "code",
   "execution_count": 161,
   "id": "legislative-strand",
   "metadata": {},
   "outputs": [],
   "source": [
    "polar??"
   ]
  },
  {
   "cell_type": "code",
   "execution_count": 147,
   "id": "numeric-local",
   "metadata": {},
   "outputs": [
    {
     "name": "stdout",
     "output_type": "stream",
     "text": [
      "La coordenada r es:  5.0\n",
      "El ángulo theta es:  0.9272952180016122\n"
     ]
    }
   ],
   "source": [
    "r, theta = polar(3,4)\n",
    "print(\"La coordenada r es: \" , r)\n",
    "print(\"El ángulo theta es: \", theta)"
   ]
  }
 ],
 "metadata": {
  "kernelspec": {
   "display_name": "Python 3",
   "language": "python",
   "name": "python3"
  },
  "language_info": {
   "codemirror_mode": {
    "name": "ipython",
    "version": 3
   },
   "file_extension": ".py",
   "mimetype": "text/x-python",
   "name": "python",
   "nbconvert_exporter": "python",
   "pygments_lexer": "ipython3",
   "version": "3.8.5"
  }
 },
 "nbformat": 4,
 "nbformat_minor": 5
}
