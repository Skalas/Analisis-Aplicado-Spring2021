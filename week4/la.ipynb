{
 "cells": [
  {
   "cell_type": "markdown",
   "metadata": {},
   "source": [
    "# Algebra Lineal"
   ]
  },
  {
   "cell_type": "code",
   "execution_count": null,
   "metadata": {},
   "outputs": [],
   "source": [
    "%pylab inline\n",
    "import numpy as np\n",
    "import matplotlib.pyplot as plt\n",
    "import scipy.linalg # Biblioteca para algebra lineal"
   ]
  },
  {
   "cell_type": "markdown",
   "metadata": {},
   "source": [
    "## Algebra de matrices"
   ]
  },
  {
   "cell_type": "markdown",
   "metadata": {},
   "source": [
    "Los arreglos de **numpy** no se comportan como las _matrices_ de sus clases de algebra lineal.\n",
    "\n",
    "En lugar de ello, hacen _broadcasting_, como hemos visto en las clases pasadas. Recordemos que _broadcasting_ es mapear las operaciones a cada uno de los elementos del arreglo (_array_)."
   ]
  },
  {
   "cell_type": "markdown",
   "metadata": {},
   "source": [
    "¿Pero que pasa si queremos hacer operaciones matriciales? Bueno, **numpy** nos ofrece las siguientes opciones.\n",
    "\n",
    "Definamos el arreglo $\\textbf{A}$"
   ]
  },
  {
   "cell_type": "code",
   "execution_count": null,
   "metadata": {},
   "outputs": [],
   "source": [
    "A = np.array([[n+m*10 for n in range(1,5)] for m in range(1,5)])\n",
    "\n",
    "A"
   ]
  },
  {
   "cell_type": "markdown",
   "metadata": {},
   "source": [
    "El arreglo $\\textbf{A}$, es eso, un arreglo (_array_), es el mismo objeto que hemos visto con anterioridad. **Numpy** soporta (en beneficio de los usuarios de `matlab`/`GNU Octave`) el objeto `matrix`."
   ]
  },
  {
   "cell_type": "code",
   "execution_count": null,
   "metadata": {},
   "outputs": [],
   "source": [
    "Am = matrix(A)\n",
    "Am"
   ]
  },
  {
   "cell_type": "markdown",
   "metadata": {},
   "source": [
    "<div class=\"alert alert-warning\">\n",
    "    \n",
    "Como probablemente en un futuro se topen con cosas de `matlab / GNU Octave` les recomiendo esta [liga](http://wiki.scipy.org/NumPy_for_Matlab_Users)\n",
    "</div>"
   ]
  },
  {
   "cell_type": "markdown",
   "metadata": {},
   "source": [
    "Nada nuevo en cuanto las dimensiones de $\\textbf{A}$ y $A_m$:"
   ]
  },
  {
   "cell_type": "code",
   "execution_count": null,
   "metadata": {},
   "outputs": [],
   "source": [
    "print(A.shape)\n",
    "print(Am.shape)"
   ]
  },
  {
   "cell_type": "markdown",
   "metadata": {},
   "source": [
    "Pero recordemos de la clase pasada que el _slicing_ devuelve arreglos unidimensionales "
   ]
  },
  {
   "cell_type": "code",
   "execution_count": null,
   "metadata": {},
   "outputs": [],
   "source": [
    "y = A[:, 0]\n",
    "print(y)\n",
    "print(y.shape)"
   ]
  },
  {
   "cell_type": "markdown",
   "metadata": {},
   "source": [
    "En lugar de arreglos bidimensionales (Recuerden sus clases de algebra lineal y piensen en lo que llaman _vectores_...)"
   ]
  },
  {
   "cell_type": "code",
   "execution_count": null,
   "metadata": {},
   "outputs": [],
   "source": [
    "ym = Am[:,0]\n",
    "print(ym)\n",
    "print(ym.shape)"
   ]
  },
  {
   "cell_type": "markdown",
   "metadata": {},
   "source": [
    "Obviamente este comportamiento se puede simular con arreglos y _slicing_, pero es más elaborado:"
   ]
  },
  {
   "cell_type": "code",
   "execution_count": null,
   "metadata": {},
   "outputs": [],
   "source": [
    "y = A[:,:1]\n",
    "print(y)\n",
    "print(y.shape)"
   ]
  },
  {
   "cell_type": "markdown",
   "metadata": {},
   "source": [
    "Las operaciones en matrices (usando la clase `matrix`) son como sigue:"
   ]
  },
  {
   "cell_type": "code",
   "execution_count": null,
   "metadata": {},
   "outputs": [],
   "source": [
    "Am*ym"
   ]
  },
  {
   "cell_type": "code",
   "execution_count": null,
   "metadata": {},
   "outputs": [],
   "source": [
    "ym*Am"
   ]
  },
  {
   "cell_type": "markdown",
   "metadata": {},
   "source": [
    "<div class=\"alert alert-info\">\n",
    "    \n",
    "**Ejercicio** ¿Por qué no funcionó?\n",
    "</div>"
   ]
  },
  {
   "cell_type": "code",
   "execution_count": null,
   "metadata": {},
   "outputs": [],
   "source": [
    "ym.T"
   ]
  },
  {
   "cell_type": "code",
   "execution_count": null,
   "metadata": {},
   "outputs": [],
   "source": [
    "Am.T"
   ]
  },
  {
   "cell_type": "markdown",
   "metadata": {},
   "source": [
    "Una operación común es el producto $y^T A y$ (esto es simplemente el _producto interno_)"
   ]
  },
  {
   "cell_type": "code",
   "execution_count": null,
   "metadata": {},
   "outputs": [],
   "source": [
    "ym.T*Am*ym"
   ]
  },
  {
   "cell_type": "code",
   "execution_count": null,
   "metadata": {},
   "outputs": [],
   "source": [
    "Am*Am"
   ]
  },
  {
   "cell_type": "code",
   "execution_count": null,
   "metadata": {},
   "outputs": [],
   "source": [
    "Am**2 # Esto es equivalente a Am * Am"
   ]
  },
  {
   "cell_type": "code",
   "execution_count": null,
   "metadata": {},
   "outputs": [],
   "source": [
    "Am + ym"
   ]
  },
  {
   "cell_type": "code",
   "execution_count": null,
   "metadata": {},
   "outputs": [],
   "source": [
    "Am**(-1)"
   ]
  },
  {
   "cell_type": "code",
   "execution_count": null,
   "metadata": {},
   "outputs": [],
   "source": [
    "Id = matrix(np.identity(4))\n",
    "Id"
   ]
  },
  {
   "cell_type": "markdown",
   "metadata": {},
   "source": [
    "### Soluciones de sistemas de ecuaciones"
   ]
  },
  {
   "cell_type": "markdown",
   "metadata": {},
   "source": [
    "Los sistemas de ecuaciones lineales se pueden plantear como un problema matricial, del tipo $\\textbf{A}\\textbf{x} = \\textbf{B}$, por ejemplo:"
   ]
  },
  {
   "cell_type": "markdown",
   "metadata": {},
   "source": [
    "$3x + 6y -5z = 12$\n",
    "\n",
    "$x - 3y + 2z = -2$\n",
    "\n",
    "$5x -y + 4z = 10$"
   ]
  },
  {
   "cell_type": "markdown",
   "metadata": {},
   "source": [
    "La solución de las ecuaciones matriciales $\\textbf{A}\\textbf{x} = \\textbf{B}$, es $\\textbf{x} = \\textbf{A}^{-1}\\textbf{B}$ (Si la matriz $\\textbf{A}$ es invertible, claro está)"
   ]
  },
  {
   "cell_type": "code",
   "execution_count": null,
   "metadata": {},
   "outputs": [],
   "source": [
    "A = np.matrix([[3,6,-5],\n",
    "              [1,-3,2],\n",
    "              [5,-1,4]])\n",
    "A"
   ]
  },
  {
   "cell_type": "code",
   "execution_count": null,
   "metadata": {},
   "outputs": [],
   "source": [
    "B = np.matrix([[12],\n",
    "               [-2],\n",
    "               [10]])\n",
    "B"
   ]
  },
  {
   "cell_type": "code",
   "execution_count": null,
   "metadata": {},
   "outputs": [],
   "source": [
    "x = A**(-1)*B\n",
    "print(x)"
   ]
  },
  {
   "cell_type": "code",
   "execution_count": null,
   "metadata": {},
   "outputs": [],
   "source": [
    "A*x"
   ]
  },
  {
   "cell_type": "markdown",
   "metadata": {},
   "source": [
    "<div class=\"alert alert-danger\">\n",
    "Es importante tener en mente que las matrices generalmente no son invertibles, por lo que este método de solución, no siempre funciona. \n",
    "</div>"
   ]
  },
  {
   "cell_type": "markdown",
   "metadata": {},
   "source": [
    "<div class=\"alert alert-danger\">\n",
    "El invertir matrices es un proceso largo y pesado que además puede ser demasiado cálculo para lo que se requiere. \n",
    "</div>"
   ]
  },
  {
   "cell_type": "markdown",
   "metadata": {},
   "source": [
    "### Transformaciones"
   ]
  },
  {
   "cell_type": "code",
   "execution_count": null,
   "metadata": {},
   "outputs": [],
   "source": [
    "A = np.matrix(\"1,2,3;4,5,6\")\n",
    "A"
   ]
  },
  {
   "cell_type": "code",
   "execution_count": null,
   "metadata": {},
   "outputs": [],
   "source": [
    "C = matrix([[1j, 2j], [3j, 4j]])\n",
    "C"
   ]
  },
  {
   "cell_type": "markdown",
   "metadata": {},
   "source": [
    "El conjugado de una matriz compleja $\\textbf{C}$"
   ]
  },
  {
   "cell_type": "code",
   "execution_count": null,
   "metadata": {},
   "outputs": [],
   "source": [
    "conjugate(C)"
   ]
  },
  {
   "cell_type": "markdown",
   "metadata": {},
   "source": [
    "El _hermitianno_ de una matriz (es decir, el _conjugado_ y la _traspuesta_)"
   ]
  },
  {
   "cell_type": "code",
   "execution_count": null,
   "metadata": {},
   "outputs": [],
   "source": [
    "C.H"
   ]
  },
  {
   "cell_type": "code",
   "execution_count": null,
   "metadata": {},
   "outputs": [],
   "source": [
    "(conjugate(C)).T"
   ]
  },
  {
   "cell_type": "markdown",
   "metadata": {},
   "source": [
    "El _hermitiano_ de una matriz real (como $\\textbf{A}$) es simplemente la _traspuesta_"
   ]
  },
  {
   "cell_type": "code",
   "execution_count": null,
   "metadata": {},
   "outputs": [],
   "source": [
    "print( A.H )\n",
    "print (A.T)"
   ]
  },
  {
   "cell_type": "markdown",
   "metadata": {},
   "source": [
    "La parte $\\Re$ e $\\Im$ de una matriz es"
   ]
  },
  {
   "cell_type": "code",
   "execution_count": null,
   "metadata": {},
   "outputs": [],
   "source": [
    "real(C) # también funciona C.real"
   ]
  },
  {
   "cell_type": "code",
   "execution_count": null,
   "metadata": {},
   "outputs": [],
   "source": [
    "imag(C) # también funciona C.imag"
   ]
  },
  {
   "cell_type": "code",
   "execution_count": null,
   "metadata": {},
   "outputs": [],
   "source": [
    "A.imag"
   ]
  },
  {
   "cell_type": "markdown",
   "metadata": {},
   "source": [
    "La inversa de una matriz"
   ]
  },
  {
   "cell_type": "code",
   "execution_count": null,
   "metadata": {},
   "outputs": [],
   "source": [
    "inv(C)"
   ]
  },
  {
   "cell_type": "code",
   "execution_count": null,
   "metadata": {},
   "outputs": [],
   "source": [
    "C.I"
   ]
  },
  {
   "cell_type": "code",
   "execution_count": null,
   "metadata": {},
   "outputs": [],
   "source": [
    "C*C.I"
   ]
  },
  {
   "cell_type": "code",
   "execution_count": null,
   "metadata": {},
   "outputs": [],
   "source": [
    "inv(C)*C"
   ]
  },
  {
   "cell_type": "markdown",
   "metadata": {},
   "source": [
    "### Determinantes"
   ]
  },
  {
   "cell_type": "code",
   "execution_count": null,
   "metadata": {},
   "outputs": [],
   "source": [
    "A = np.matrix([[1,2],[3,4]])\n",
    "A"
   ]
  },
  {
   "cell_type": "code",
   "execution_count": null,
   "metadata": {},
   "outputs": [],
   "source": [
    "np.linalg.det(A)"
   ]
  },
  {
   "cell_type": "code",
   "execution_count": null,
   "metadata": {},
   "outputs": [],
   "source": [
    "B = np.arange(1,10).reshape(3,3)\n",
    "B = np.matrix(B)\n",
    "B"
   ]
  },
  {
   "cell_type": "code",
   "execution_count": null,
   "metadata": {},
   "outputs": [],
   "source": [
    "np.linalg.det(B)"
   ]
  },
  {
   "cell_type": "markdown",
   "metadata": {},
   "source": [
    "<div class=\"alert alert-info\">\n",
    "Sean las matrices $\\textbf{A}$ y $\\textbf{B}$ definidas abajo, compruebe las propiedades $1-6$ de los determinantes como se muestran en la página de la [Wikipedia](http://en.wikipedia.org/wiki/Determinant)\n",
    "</div>"
   ]
  },
  {
   "cell_type": "code",
   "execution_count": null,
   "metadata": {},
   "outputs": [],
   "source": [
    "A = np.matrix([[-2,2,-3],\n",
    "               [-1,1,3],\n",
    "               [2,0,-1]])\n",
    "print(A)"
   ]
  },
  {
   "cell_type": "code",
   "execution_count": null,
   "metadata": {},
   "outputs": [],
   "source": [
    "B = np.matrix([[5, -3, 2],\n",
    "               [1,0,2],\n",
    "               [2,-1,3]])\n",
    "print(B)"
   ]
  },
  {
   "cell_type": "markdown",
   "metadata": {},
   "source": [
    "<div class=\"alert alert-info\">\n",
    "    \n",
    "**Ejercicio**: Resuelva el sistema de ecuaciones lineales mostrado anteriormente, pero usando la [**Regla de Cramer**](http://en.wikipedia.org/wiki/Cramer's_rule)\n",
    "</div>"
   ]
  },
  {
   "cell_type": "markdown",
   "metadata": {},
   "source": [
    "El módulo `scipy.linalg` permite la creación de matrices especiales, tales como matrices diagonales de bloques `block_diag`, matrices circulantes `circulant`, matrices _companion_ (`companion`), matrices de Hadamard (`hadamard`), Hankel (`hankel`), Hilbert (`hilbert`), Hilbert invertida (`invhilbert`), Leslie (`leslie`), Toeplitz (`toeplitz`) y matrices triangulares (`tri`, `tril`, `triu`)."
   ]
  },
  {
   "cell_type": "markdown",
   "metadata": {},
   "source": [
    "### Eigenvalores y eigenvectores"
   ]
  },
  {
   "cell_type": "markdown",
   "metadata": {},
   "source": [
    "El cálculo de _eigenvectores_ y _eigenvalores_ es uno de los más complicados (y útiles) a realizarse en matrices cuadradas. **SciPy** posee varias rutinas para calcularlas:\n",
    "\n",
    "- `eigvals`\n",
    "\n",
    "- `eigvalsh`\n",
    "\n",
    "- `eigvals_banded`\n",
    "\n",
    "Y los respectivos métodos para _eigenvectores_: `eig`, `eigh` y `eigh_banded`."
   ]
  },
  {
   "cell_type": "markdown",
   "metadata": {},
   "source": [
    "<div class=\"alert alert-info\">\n",
    "    \n",
    "**Ejercicio:** Calcule los _eigenvectores_ e _eigenvalores_ de las siguientes matrices usando los diferentes métodos.\n",
    "\n",
    "- $$ A =  \\left[\\begin{matrix} 4 & 6 & 4\\\\-2 & -3 & -4\\\\0 & 0 & 2\\end{matrix}\\right] $$\n",
    "\n",
    "- $$ B = \\left[\\begin{matrix} 1 & 2 & 0\\\\0 & 1 & 2\\\\0 & 0 & 1\\end{matrix}\\right] $$\n",
    "\n",
    "**NOTA** Si es posible, utilice los métodos de creación de matrices especiales.\n",
    "\n",
    "</div>"
   ]
  },
  {
   "cell_type": "markdown",
   "metadata": {},
   "source": [
    "### Algebra lineal simbólica"
   ]
  },
  {
   "cell_type": "markdown",
   "metadata": {},
   "source": [
    "Es posible manipular algebraicamente a matrices de expresiones simbólicas, usando la clase de `Matrix` de **SimPy** . "
   ]
  },
  {
   "cell_type": "code",
   "execution_count": null,
   "metadata": {},
   "outputs": [],
   "source": [
    "from ipywidgets import interact\n",
    "from IPython.display import display"
   ]
  },
  {
   "cell_type": "markdown",
   "metadata": {},
   "source": [
    "<div class=\"alert alert-danger\">\n",
    "    \n",
    "Cuando se trabaja con **Sympy** **no** se puede usar  `%pylab inline` ya que `%pylab%` importa variables que entraran en conflicto con **Sympy**. Es mejor usar, `%matplotlib inline` e importar `numpy` y `matplotlib`.\n",
    "</div>"
   ]
  },
  {
   "cell_type": "code",
   "execution_count": null,
   "metadata": {},
   "outputs": [],
   "source": [
    "%matplotlib inline\n",
    "import numpy as np\n",
    "import matplotlib.pyplot as plt"
   ]
  },
  {
   "cell_type": "code",
   "execution_count": null,
   "metadata": {},
   "outputs": [],
   "source": [
    "from sympy import *"
   ]
  },
  {
   "cell_type": "code",
   "execution_count": null,
   "metadata": {},
   "outputs": [],
   "source": [
    "init_printing(use_latex='mathjax')"
   ]
  },
  {
   "cell_type": "code",
   "execution_count": null,
   "metadata": {},
   "outputs": [],
   "source": [
    "x = Symbol('x')\n",
    "y = Symbol('y')\n"
   ]
  },
  {
   "cell_type": "code",
   "execution_count": null,
   "metadata": {},
   "outputs": [],
   "source": [
    "A = Matrix([[1,x], [y,1]])\n",
    "A"
   ]
  },
  {
   "cell_type": "code",
   "execution_count": null,
   "metadata": {},
   "outputs": [],
   "source": [
    "A[0,0]"
   ]
  },
  {
   "cell_type": "code",
   "execution_count": null,
   "metadata": {},
   "outputs": [],
   "source": [
    "A[:,1]"
   ]
  },
  {
   "cell_type": "code",
   "execution_count": null,
   "metadata": {},
   "outputs": [],
   "source": [
    "A**2"
   ]
  },
  {
   "cell_type": "code",
   "execution_count": null,
   "metadata": {},
   "outputs": [],
   "source": [
    "A.inv()"
   ]
  },
  {
   "cell_type": "code",
   "execution_count": null,
   "metadata": {},
   "outputs": [],
   "source": [
    "I = A.inv()*A\n",
    "I"
   ]
  },
  {
   "cell_type": "code",
   "execution_count": null,
   "metadata": {},
   "outputs": [],
   "source": [
    "I = simplify(I)\n",
    "I"
   ]
  },
  {
   "cell_type": "markdown",
   "metadata": {},
   "source": [
    "Para matrices pequeñas, puedes calcular los _eigenvalores_ simbólicamente."
   ]
  },
  {
   "cell_type": "code",
   "execution_count": null,
   "metadata": {},
   "outputs": [],
   "source": [
    "A.eigenvals()"
   ]
  },
  {
   "cell_type": "code",
   "execution_count": null,
   "metadata": {},
   "outputs": [],
   "source": [
    "A.subs({x:0, y:1})"
   ]
  },
  {
   "cell_type": "markdown",
   "metadata": {},
   "source": [
    "<div class=\"alert alert-info\">\n",
    "    \n",
    "**Ejercicio**: Cree matrices de $3\\times3$ de *Hilbert*, *Leslie* y *Circulantes* y muéstrelas de manera simbólica.\n",
    "</div>"
   ]
  },
  {
   "cell_type": "markdown",
   "metadata": {},
   "source": [
    "## Ejemplos"
   ]
  },
  {
   "cell_type": "markdown",
   "metadata": {},
   "source": [
    "### Procesamiento de imágenes"
   ]
  },
  {
   "cell_type": "markdown",
   "metadata": {},
   "source": [
    "Vamos a representar las imágenes como matrices $\\mathbf{R}^{n\\ \\times\\  m\\  \\times\\  k}$. Usaremos primero el método decomposición de matrices conocido como [*Single Value Decomposition*](http://en.wikipedia.org/wiki/Singular_value_decomposition) (**SVD**) para reducir el tamaño de la imagen.\n",
    "\n",
    "La **SVD** de una matriz (real o compleja) $\\textbf{M}$ de $m \\times n$ es una factorización de la forma $\\textbf{M} = U\\cdot S \\cdot V^*$, en la cual $U$ es matriz $m \\times m$ unitaria, $S$ es una matriz $m \\times n$ rectangular diagonal con elementos no-negativos, y $V^*$ es la conjugada traspuesta de una matriz unitaria de $n \\times n$.\n",
    "\n",
    "A los elementos de la diagonal $S_{ii}$ of $S$ se les denomina valores singulares de $\\textbf{M}$. A las $m$ columnas de $U$ y a las $n$ de $V$ se les llama vectores singulares izquierdos o derechos, respectivamente.\n",
    "\n",
    " \n",
    "Cuando $\\textbf{M}$ es cuadrada ( $m \\times m$) y  real con determinante positivo, $U$, $V^*$, y $S$ son matrices reales de $m \\times m$, entonces $S$ puede ser interpretada como una matriz de escalamiento, y  $U$, $V^*$ como matrices de rotación."
   ]
  },
  {
   "cell_type": "code",
   "execution_count": null,
   "metadata": {},
   "outputs": [],
   "source": [
    "%pylab inline\n",
    "import scipy.misc\n",
    "import scipy.linalg\n",
    "img = scipy.misc.face()\n",
    "plt.imshow(img)"
   ]
  },
  {
   "cell_type": "code",
   "execution_count": null,
   "metadata": {},
   "outputs": [],
   "source": [
    "img"
   ]
  },
  {
   "cell_type": "code",
   "execution_count": null,
   "metadata": {},
   "outputs": [],
   "source": [
    "shape(img)"
   ]
  },
  {
   "cell_type": "code",
   "execution_count": null,
   "metadata": {},
   "outputs": [],
   "source": [
    "U, S, Vs = scipy.linalg.svd(img[:,:,2])\n",
    "print(U.shape)\n",
    "print(S.shape)\n",
    "print(Vs.shape)"
   ]
  },
  {
   "cell_type": "markdown",
   "metadata": {},
   "source": [
    "La matriz $S$ está representada como una matriz _sparse_. Como queremos hacer una compresión de la imagen, sólo nos quedaremos con $32$ de los _valores singulares_. Creamos una nueva matriz cuyos elementos están dados por la siguiente fórmula:\n",
    "\n",
    "$$ \\Sigma^k_{j = 1} \\quad s_j(u_j \\cdot v_j) $$\n",
    "\n",
    "\n",
    "donde, $s$ son los valores singulares, $u$ y $v$ son los vectores singulares."
   ]
  },
  {
   "cell_type": "code",
   "execution_count": null,
   "metadata": {},
   "outputs": [],
   "source": [
    "A = numpy.dot( U[:, 0:32], numpy.dot(numpy.diag(S[0:32]), Vs[0:32,:]))"
   ]
  },
  {
   "cell_type": "code",
   "execution_count": null,
   "metadata": {},
   "outputs": [],
   "source": [
    "plt.subplot(121, aspect='equal'); plt.imshow(img);\n",
    "plt.gray()\n",
    "\n",
    "plt.subplot(122, aspect='equal'); plt.imshow(A);"
   ]
  },
  {
   "cell_type": "code",
   "execution_count": null,
   "metadata": {},
   "outputs": [],
   "source": []
  }
 ],
 "metadata": {
  "kernelspec": {
   "display_name": "Python 3",
   "language": "python",
   "name": "python3"
  },
  "language_info": {
   "codemirror_mode": {
    "name": "ipython",
    "version": 3
   },
   "file_extension": ".py",
   "mimetype": "text/x-python",
   "name": "python",
   "nbconvert_exporter": "python",
   "pygments_lexer": "ipython3",
   "version": "3.8.5"
  }
 },
 "nbformat": 4,
 "nbformat_minor": 1
}
