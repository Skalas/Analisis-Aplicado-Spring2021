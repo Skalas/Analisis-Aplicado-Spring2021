{
 "cells": [
  {
   "cell_type": "code",
   "execution_count": 2,
   "metadata": {},
   "outputs": [],
   "source": [
    "import numpy as np\n"
   ]
  },
  {
   "cell_type": "code",
   "execution_count": 16,
   "metadata": {},
   "outputs": [
    {
     "data": {
      "text/plain": [
       "array([0., 0., 0., 0.])"
      ]
     },
     "execution_count": 16,
     "metadata": {},
     "output_type": "execute_result"
    }
   ],
   "source": [
    "z = np.zeros(4)\n",
    "z\n"
   ]
  },
  {
   "cell_type": "code",
   "execution_count": 17,
   "metadata": {},
   "outputs": [
    {
     "data": {
      "text/plain": [
       "3.0"
      ]
     },
     "execution_count": 17,
     "metadata": {},
     "output_type": "execute_result"
    }
   ],
   "source": [
    "z[1] = 3\n",
    "z[1]"
   ]
  },
  {
   "cell_type": "code",
   "execution_count": 18,
   "metadata": {},
   "outputs": [
    {
     "data": {
      "text/plain": [
       "4"
      ]
     },
     "execution_count": 18,
     "metadata": {},
     "output_type": "execute_result"
    }
   ],
   "source": [
    "x0 = [1,1,1,1]\n",
    "n = len(x0)\n",
    "n\n"
   ]
  },
  {
   "cell_type": "markdown",
   "metadata": {},
   "source": [
    "funcion cuadrados: \n",
    "\n",
    "$\\begin{array}{ccc}\n",
    "f:[x_1, x_2, x_3] \n",
    "\\end{array} \\to \\mathbf{R} \\\\$ \n",
    "$ f(x_1,x_2,x_3) = x_1^2 + x_2^2 + x_3^2$\n"
   ]
  },
  {
   "cell_type": "code",
   "execution_count": 62,
   "metadata": {},
   "outputs": [],
   "source": [
    "\n",
    "def cuadrados(x):\n",
    "    resultado=0\n",
    "    for i in range(len(x)):\n",
    "        resultado += x[i]**2\n",
    "    return resultado\n"
   ]
  },
  {
   "cell_type": "markdown",
   "metadata": {},
   "source": [
    "función gradiente\n",
    "\n",
    "$\\nabla f = [ \\frac{\\partial f}{\\partial x_1},  \\frac{\\partial f}{\\partial x_2},  \\frac{\\partial f}{\\partial x_3}]$ \n",
    "\n",
    "la aproximación de la primera derivada con respecto a x de una función $f(x,y)$ esta dada por \n",
    "$  \\frac{\\partial f}{\\partial x} \\approx \\frac{f(x + \\Delta x, y) - f(x, y)}{\\Delta x} $\n",
    "\n",
    "La diferencia finita central es a menudo más exacta: \n",
    "\n",
    "$  \\frac{\\partial f}{\\partial x} \\approx \\frac{f(x + \\frac{1}{2}\\Delta x, y) - f(x-\\frac{1}{2}\\Delta x, y)}{\\Delta x} $\n",
    "\n",
    "en este caso $ \\frac{\\Delta x}{2}  $ equivale a  `z[i] = h/2`"
   ]
  },
  {
   "cell_type": "code",
   "execution_count": 63,
   "metadata": {},
   "outputs": [],
   "source": [
    "def gradiente(f, x0, h=1e-6, i=-1):\n",
    "    \"\"\"\n",
    "    Función que calcula el Grad de una función en un punto\n",
    "    \"\"\"\n",
    "    n = len(x0)\n",
    "    if i in range(n):\n",
    "        z = np.zeros(n)\n",
    "        z[i] = h/2\n",
    "        Grad = (f(x0 + z) - f(x0 - z))/h\n",
    "    else:\n",
    "        Grad=np.zeros(n) #vector [0,0,0]\n",
    "        for j in range(n):\n",
    "            z = np.zeros(n)\n",
    "            z[j] = h/2\n",
    "            Grad[j]= (f(x0 + z) - f(x0 - z))/h\n",
    "    return Grad"
   ]
  },
  {
   "cell_type": "markdown",
   "metadata": {},
   "source": [
    "Explicacion:"
   ]
  },
  {
   "cell_type": "code",
   "execution_count": 64,
   "metadata": {},
   "outputs": [
    {
     "name": "stdout",
     "output_type": "stream",
     "text": [
      "[1.5 0.  0. ]\n",
      "[0.  1.5 0. ]\n",
      "[0.  0.  1.5]\n",
      "[0.  0.  1.5]\n"
     ]
    }
   ],
   "source": [
    "x0 = [0,0,0]\n",
    "h=3\n",
    "n = len(x0)\n",
    "\n",
    "for j in range(n):\n",
    "    z = np.zeros(n)\n",
    "    z[j] = h/2\n",
    "    print(z)\n",
    "print(z)"
   ]
  },
  {
   "cell_type": "code",
   "execution_count": 70,
   "metadata": {},
   "outputs": [
    {
     "data": {
      "text/plain": [
       "30"
      ]
     },
     "execution_count": 70,
     "metadata": {},
     "output_type": "execute_result"
    }
   ],
   "source": [
    "x = [1,1,1]\n",
    "y = [3,3,3]\n",
    "w = x + y\n",
    "w\n",
    "cuadrados(x + y)"
   ]
  },
  {
   "cell_type": "markdown",
   "metadata": {},
   "source": [
    "necesitamos $  \\frac{\\partial f}{\\partial x} \\approx \\frac{f(x + \\frac{1}{2}\\Delta x, y) - f(x-\\frac{1}{2}\\Delta x, y)}{\\Delta x} $ y dada la construccion de la funcion Grad, y al construir z de esta forma se cumple esta operacion"
   ]
  },
  {
   "cell_type": "code",
   "execution_count": 112,
   "metadata": {},
   "outputs": [
    {
     "name": "stdout",
     "output_type": "stream",
     "text": [
      "[1.5 0.  0. ]\n",
      "notemos que el solo el 1  elemento se modifica: \n",
      "res:  2.0\n",
      "[0.  1.5 0. ]\n",
      "notemos que el solo el 2  elemento se modifica: \n",
      "res:  4.0\n",
      "[0.  0.  1.5]\n",
      "notemos que el solo el 3  elemento se modifica: \n",
      "res:  6.0\n",
      "\n",
      " esto es un vector [2. 4. 6.]\n"
     ]
    }
   ],
   "source": [
    "x0 = [1,2,3]\n",
    "h=3\n",
    "n = len(x0)\n",
    "Grad=np.zeros(n)\n",
    "for j in range(n):\n",
    "    z = np.zeros(n)\n",
    "    z[j] = h/2\n",
    "    print(z)\n",
    "    Grad[j] = (cuadrados(x0 + z) - cuadrados(x0 - z))/h #\"esto emula: f(x1 + 1/2h, x2,x3) para j = 0\n",
    "    print(\"notemos que el solo el\", (j+1), \" elemento se modifica: \")\n",
    "    print(\"res: \",(cuadrados(x0 + z) - cuadrados(x0 - z))/h)\n",
    "    \n",
    "\n",
    "print(\"\\n esto es un vector\", Grad)"
   ]
  },
  {
   "cell_type": "markdown",
   "metadata": {},
   "source": [
    "Condiciones de Primer Orden\n",
    "Si $x^*$ es un mínimo local y $f$ es continua diferenciable en una vecindad de $x^*$ entonces $ \\nabla f(x^*) = 0$"
   ]
  },
  {
   "cell_type": "code",
   "execution_count": null,
   "metadata": {},
   "outputs": [],
   "source": [
    "def f_o_c(f,x, tol=1e-12):\n",
    "    \"\"\"\n",
    "    Función que calcula las condiciones de primer orden\n",
    "    \"\"\"\n",
    "    grad = np.array(gradiente(f,x))\n",
    "    if np.dot(grad, grad) < tol:\n",
    "        return True\n",
    "    else :\n",
    "        return False"
   ]
  },
  {
   "cell_type": "code",
   "execution_count": 114,
   "metadata": {},
   "outputs": [],
   "source": [
    "z = np.ones((3,4))"
   ]
  },
  {
   "cell_type": "code",
   "execution_count": 115,
   "metadata": {},
   "outputs": [
    {
     "data": {
      "text/plain": [
       "array([[1., 1., 1., 1.],\n",
       "       [1., 1., 1., 1.],\n",
       "       [1., 1., 1., 1.]])"
      ]
     },
     "execution_count": 115,
     "metadata": {},
     "output_type": "execute_result"
    }
   ],
   "source": [
    "z"
   ]
  },
  {
   "cell_type": "code",
   "execution_count": 117,
   "metadata": {},
   "outputs": [
    {
     "data": {
      "text/plain": [
       "array([0.  , 0.25, 0.5 , 0.75, 1.  ])"
      ]
     },
     "execution_count": 117,
     "metadata": {},
     "output_type": "execute_result"
    }
   ],
   "source": [
    "arr = np.linspace(0,1,5)\n",
    "arr"
   ]
  },
  {
   "cell_type": "code",
   "execution_count": 118,
   "metadata": {},
   "outputs": [
    {
     "data": {
      "text/plain": [
       "array([[[2.31584178e+077, 2.31584178e+077, 6.94485689e-310,\n",
       "         6.94485690e-310],\n",
       "        [6.94485690e-310, 6.94485690e-310, 6.94485690e-310,\n",
       "         6.94485690e-310],\n",
       "        [6.94485690e-310, 6.94485690e-310, 6.94485690e-310,\n",
       "         6.94485690e-310]],\n",
       "\n",
       "       [[6.94485690e-310, 6.94485690e-310, 6.94485690e-310,\n",
       "         6.94485690e-310],\n",
       "        [6.94485690e-310, 6.94485690e-310, 6.94485690e-310,\n",
       "         6.94485690e-310],\n",
       "        [6.94485690e-310, 6.94485690e-310, 6.94485690e-310,\n",
       "         6.94485690e-310]]])"
      ]
     },
     "execution_count": 118,
     "metadata": {},
     "output_type": "execute_result"
    }
   ],
   "source": [
    "np.empty((2,3,4))"
   ]
  },
  {
   "cell_type": "code",
   "execution_count": 6,
   "metadata": {},
   "outputs": [
    {
     "data": {
      "text/plain": [
       "array([0, 1, 2, 3, 4, 5, 6, 7, 8, 9])"
      ]
     },
     "execution_count": 6,
     "metadata": {},
     "output_type": "execute_result"
    }
   ],
   "source": [
    "arreglo = np.arange(10)\n",
    "arreglo\n"
   ]
  },
  {
   "cell_type": "code",
   "execution_count": null,
   "metadata": {},
   "outputs": [],
   "source": []
  }
 ],
 "metadata": {
  "kernelspec": {
   "display_name": "Python 3",
   "language": "python",
   "name": "python3"
  },
  "language_info": {
   "codemirror_mode": {
    "name": "ipython",
    "version": 3
   },
   "file_extension": ".py",
   "mimetype": "text/x-python",
   "name": "python",
   "nbconvert_exporter": "python",
   "pygments_lexer": "ipython3",
   "version": "3.8.5"
  }
 },
 "nbformat": 4,
 "nbformat_minor": 2
}
